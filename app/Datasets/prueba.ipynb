{
 "cells": [
  {
   "cell_type": "code",
   "execution_count": 1,
   "metadata": {},
   "outputs": [],
   "source": [
    "import pandas as pd\n",
    "import numpy as np\n",
    "import re"
   ]
  },
  {
   "cell_type": "code",
   "execution_count": 2,
   "metadata": {},
   "outputs": [],
   "source": [
    "df=pd.read_csv(r'Datasets\\datos_titulos.csv')"
   ]
  },
  {
   "attachments": {},
   "cell_type": "markdown",
   "metadata": {},
   "source": [
    "Máxima duración según tipo de film (película/serie), por plataforma y por año: El request debe ser: get_max_duration(año, plataforma, [min o season])"
   ]
  },
  {
   "cell_type": "code",
   "execution_count": 4,
   "metadata": {},
   "outputs": [
    {
     "data": {
      "text/plain": [
       "'The House That Jack Built'"
      ]
     },
     "execution_count": 4,
     "metadata": {},
     "output_type": "execute_result"
    }
   ],
   "source": [
    "a='Movie'\n",
    "max_duracion=(df.duration[((df['plataform']=='hulu')&(df['release_year']==2018)&(df['type'].str.contains(a)))].max())\n",
    "film_max=str(df.title[((df['plataform']=='hulu')&(df['duration']==max_duracion)&(df['type'].str.contains(a))&(df['release_year']==2018))].max())\n",
    "film_max"
   ]
  },
  {
   "attachments": {},
   "cell_type": "markdown",
   "metadata": {},
   "source": [
    "Cantidad de películas y series (separado) por plataforma El request debe ser: get_count_plataform(plataforma)"
   ]
  },
  {
   "cell_type": "code",
   "execution_count": 5,
   "metadata": {},
   "outputs": [
    {
     "data": {
      "text/plain": [
       "6131"
      ]
     },
     "execution_count": 5,
     "metadata": {},
     "output_type": "execute_result"
    }
   ],
   "source": [
    "((df['plataform']=='netflix')&(df['type'].str.contains('Movie'))).sum()"
   ]
  },
  {
   "cell_type": "code",
   "execution_count": 7,
   "metadata": {},
   "outputs": [
    {
     "data": {
      "text/plain": [
       "2676"
      ]
     },
     "execution_count": 7,
     "metadata": {},
     "output_type": "execute_result"
    }
   ],
   "source": [
    "((df['plataform']=='netflix')&(df['type'].str.contains('TV Show'))).sum()"
   ]
  },
  {
   "attachments": {},
   "cell_type": "markdown",
   "metadata": {},
   "source": [
    "Cantidad de veces que se repite un género y plataforma con mayor frecuencia del mismo. El request debe ser: get_listedin('genero')\n",
    "Como ejemplo de género pueden usar 'comedy', el cuál deberia devolverles un cunt de 2099 para la plataforma de amazon."
   ]
  },
  {
   "cell_type": "code",
   "execution_count": 5,
   "metadata": {},
   "outputs": [
    {
     "ename": "AttributeError",
     "evalue": "'list' object has no attribute 'max'",
     "output_type": "error",
     "traceback": [
      "\u001b[1;31m---------------------------------------------------------------------------\u001b[0m",
      "\u001b[1;31mAttributeError\u001b[0m                            Traceback (most recent call last)",
      "\u001b[1;32mc:\\Users\\Usuario\\Desktop\\Henry DTS-05\\PI01_DATA05\\prueba.ipynb Celda 9\u001b[0m in \u001b[0;36m<cell line: 5>\u001b[1;34m()\u001b[0m\n\u001b[0;32m      <a href='vscode-notebook-cell:/c%3A/Users/Usuario/Desktop/Henry%20DTS-05/PI01_DATA05/prueba.ipynb#X11sZmlsZQ%3D%3D?line=2'>3</a>\u001b[0m hulu\u001b[39m=\u001b[39m((df[\u001b[39m'\u001b[39m\u001b[39mlisted_in\u001b[39m\u001b[39m'\u001b[39m]\u001b[39m.\u001b[39mstr\u001b[39m.\u001b[39mcontains(\u001b[39m'\u001b[39m\u001b[39mComedy\u001b[39m\u001b[39m'\u001b[39m))\u001b[39m&\u001b[39m(df[\u001b[39m'\u001b[39m\u001b[39mplataform\u001b[39m\u001b[39m'\u001b[39m]\u001b[39m==\u001b[39m\u001b[39m'\u001b[39m\u001b[39mhulu\u001b[39m\u001b[39m'\u001b[39m))\u001b[39m.\u001b[39msum()\n\u001b[0;32m      <a href='vscode-notebook-cell:/c%3A/Users/Usuario/Desktop/Henry%20DTS-05/PI01_DATA05/prueba.ipynb#X11sZmlsZQ%3D%3D?line=3'>4</a>\u001b[0m disney\u001b[39m=\u001b[39m((df[\u001b[39m'\u001b[39m\u001b[39mlisted_in\u001b[39m\u001b[39m'\u001b[39m]\u001b[39m.\u001b[39mstr\u001b[39m.\u001b[39mcontains(\u001b[39m'\u001b[39m\u001b[39mComedy\u001b[39m\u001b[39m'\u001b[39m))\u001b[39m&\u001b[39m(df[\u001b[39m'\u001b[39m\u001b[39mplataform\u001b[39m\u001b[39m'\u001b[39m]\u001b[39m==\u001b[39m\u001b[39m'\u001b[39m\u001b[39mdisney\u001b[39m\u001b[39m'\u001b[39m))\u001b[39m.\u001b[39msum()\n\u001b[1;32m----> <a href='vscode-notebook-cell:/c%3A/Users/Usuario/Desktop/Henry%20DTS-05/PI01_DATA05/prueba.ipynb#X11sZmlsZQ%3D%3D?line=4'>5</a>\u001b[0m lista_categoria\u001b[39m=\u001b[39m[amazon,disney,netflix,hulu]\u001b[39m.\u001b[39;49mmax()\n",
      "\u001b[1;31mAttributeError\u001b[0m: 'list' object has no attribute 'max'"
     ]
    }
   ],
   "source": [
    "((df['listed_in'].str.contains('Comedy'))&(df['plataform']=='amazon')).sum()"
   ]
  },
  {
   "cell_type": "markdown",
   "metadata": {},
   "source": [
    "\n",
    "Actor que más se repite según plataforma y año. El request debe ser: get_actor(plataforma, año)"
   ]
  },
  {
   "attachments": {},
   "cell_type": "markdown",
   "metadata": {},
   "source": [
    "netflix 2018 debe dar\n",
    "netflix 8 andrea libman"
   ]
  },
  {
   "cell_type": "code",
   "execution_count": 45,
   "metadata": {},
   "outputs": [],
   "source": [
    "def listaPalabrasDicFrec(listaPalabras):\n",
    "    frecuenciaPalab = [listaPalabras.count(p) for p in listaPalabras]\n",
    "    return dict(list(zip(listaPalabras, frecuenciaPalab)))\n",
    "\n",
    "def ordenaDicFrec(dicFrec):\n",
    "    aux = [(dicFrec[key], key) for key in dicFrec]\n",
    "    aux.sort()\n",
    "    aux.reverse()\n",
    "    return aux"
   ]
  },
  {
   "cell_type": "code",
   "execution_count": 6,
   "metadata": {},
   "outputs": [
    {
     "data": {
      "text/plain": [
       "8"
      ]
     },
     "execution_count": 6,
     "metadata": {},
     "output_type": "execute_result"
    }
   ],
   "source": [
    "lista_actores = df[(df['plataform'] =='netflix') & (df['release_year'] == 2018)].cast.str.split(',').dropna()  \n",
    "total_actores = []\n",
    "for actores in lista_actores:\n",
    "    total_actores+= [(actor.strip(' ')) for actor in actores]\n",
    "conteo_actores=[total_actores.count(conteo) for conteo in total_actores]\n",
    "conteo_actores= dict(list(zip(total_actores, conteo_actores)))\n",
    "conteo_actores=[(conteo_actores[i], i) for i in conteo_actores]\n",
    "conteo_actores.sort(reverse=True)\n",
    "mayor=conteo_actores[0]\n",
    "mayor[0]"
   ]
  },
  {
   "cell_type": "code",
   "execution_count": 7,
   "metadata": {},
   "outputs": [
    {
     "data": {
      "text/plain": [
       "'Andrea Libman'"
      ]
     },
     "execution_count": 7,
     "metadata": {},
     "output_type": "execute_result"
    }
   ],
   "source": [
    "mayor[1]"
   ]
  },
  {
   "cell_type": "code",
   "execution_count": 8,
   "metadata": {},
   "outputs": [
    {
     "name": "stdout",
     "output_type": "stream",
     "text": [
      "Note: you may need to restart the kernel to use updated packages.aiohttp==3.8.3\n",
      "aiosignal==1.3.1\n",
      "anyio==3.6.2\n",
      "aspose-cells==22.11.0\n",
      "asttokens==2.0.5\n",
      "async-timeout==4.0.2\n",
      "attrs==22.1.0\n",
      "backcall==0.2.0\n",
      "certifi==2022.9.24\n",
      "charset-normalizer==2.1.1\n",
      "click==8.1.3\n",
      "colorama==0.4.5\n",
      "contourpy==1.0.6\n",
      "cycler==0.11.0\n",
      "datasets==2.7.1\n",
      "debugpy==1.6.2\n",
      "decorator==5.1.1\n",
      "dill==0.3.6\n",
      "distlib==0.3.6\n",
      "docker==6.0.1\n",
      "entrypoints==0.4\n",
      "executing==0.9.1\n",
      "fastapi==0.88.0\n",
      "filelock==3.8.0\n",
      "fonttools==4.38.0\n",
      "frozenlist==1.3.3\n",
      "fsspec==2022.11.0\n",
      "h11==0.14.0\n",
      "huggingface-hub==0.11.1\n",
      "idna==3.4\n",
      "ipykernel==6.15.1\n",
      "ipython==8.4.0\n",
      "jedi==0.18.1\n",
      "joblib==1.2.0\n",
      "JPype1==1.4.1\n",
      "jupyter-client==7.3.4\n",
      "jupyter-core==4.11.1\n",
      "kiwisolver==1.4.4\n",
      "matplotlib==3.6.2\n",
      "matplotlib-inline==0.1.3\n",
      "multidict==6.0.2\n",
      "multiprocess==0.70.14\n",
      "mysql-connector-python==8.0.30\n",
      "nest-asyncio==1.5.5\n",
      "numpy==1.23.3\n",
      "packaging==21.3\n",
      "pandas==1.4.4\n",
      "parso==0.8.3\n",
      "pickleshare==0.7.5\n",
      "Pillow==9.3.0\n",
      "platformdirs==2.5.2\n",
      "prompt-toolkit==3.0.30\n",
      "psutil==5.9.1\n",
      "pure-eval==0.2.2\n",
      "pyarrow==10.0.1\n",
      "pydantic==1.10.2\n",
      "Pygments==2.12.0\n",
      "PyMySQL==1.0.2\n",
      "pyparsing==3.0.9\n",
      "python-dateutil==2.8.2\n",
      "pytz==2022.2.1\n",
      "pywin32==304\n",
      "PyYAML==6.0\n",
      "pyzmq==23.2.0\n",
      "requests==2.28.1\n",
      "responses==0.18.0\n",
      "scikit-learn==1.1.3\n",
      "scipy==1.9.3\n",
      "seaborn==0.12.1\n",
      "six==1.16.0\n",
      "sniffio==1.3.0\n",
      "stack-data==0.3.0\n",
      "starlette==0.22.0\n",
      "threadpoolctl==3.1.0\n",
      "tornado==6.2\n",
      "tqdm==4.64.1\n",
      "traitlets==5.3.0\n",
      "typing_extensions==4.4.0\n",
      "urllib3==1.26.12\n",
      "uvicorn==0.20.0\n",
      "virtualenv==20.16.5\n",
      "wcwidth==0.2.5\n",
      "websocket-client==1.4.2\n",
      "xgboost==1.7.1\n",
      "xxhash==3.1.0\n",
      "yarl==1.8.1\n",
      "\n"
     ]
    }
   ],
   "source": [
    "pip freeze"
   ]
  },
  {
   "cell_type": "code",
   "execution_count": null,
   "metadata": {},
   "outputs": [],
   "source": []
  }
 ],
 "metadata": {
  "kernelspec": {
   "display_name": "Python 3.10.5 64-bit",
   "language": "python",
   "name": "python3"
  },
  "language_info": {
   "codemirror_mode": {
    "name": "ipython",
    "version": 3
   },
   "file_extension": ".py",
   "mimetype": "text/x-python",
   "name": "python",
   "nbconvert_exporter": "python",
   "pygments_lexer": "ipython3",
   "version": "3.10.5 (tags/v3.10.5:f377153, Jun  6 2022, 16:14:13) [MSC v.1929 64 bit (AMD64)]"
  },
  "orig_nbformat": 4,
  "vscode": {
   "interpreter": {
    "hash": "c63d8c7d738c2960218a10995aedf0a7f67a49a231e71037adf0440953cdb45b"
   }
  }
 },
 "nbformat": 4,
 "nbformat_minor": 2
}

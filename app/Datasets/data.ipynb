{
 "cells": [
  {
   "cell_type": "code",
   "execution_count": 48,
   "metadata": {},
   "outputs": [],
   "source": [
    "import pandas as pd\n",
    "import numpy as np\n",
    "import re"
   ]
  },
  {
   "cell_type": "markdown",
   "metadata": {},
   "source": [
    "Ingesta de datos"
   ]
  },
  {
   "cell_type": "code",
   "execution_count": 49,
   "metadata": {},
   "outputs": [],
   "source": [
    "#Extraigo los Datasets\n",
    "amazon= pd.read_csv('Datasets\\prime_titles.csv',index_col=[0])\n",
    "disney= pd.read_csv('Datasets\\disney_plus_titles.csv',index_col=[0])\n",
    "hulu= pd.read_csv('Datasets\\hulu_titles.csv',index_col=[0])\n",
    "netflix= pd.read_json('Datasets\\stitles_netflix.json')\n",
    "netflix=netflix.drop(columns='show_id')"
   ]
  },
  {
   "cell_type": "markdown",
   "metadata": {},
   "source": [
    "Creo mi DF"
   ]
  },
  {
   "cell_type": "code",
   "execution_count": 50,
   "metadata": {},
   "outputs": [],
   "source": [
    "#Agrego la columna plataforma con la plataforma correspondiente\n",
    "netflix['plataform']='netflix'\n",
    "disney['plataform']='disney'\n",
    "hulu['plataform']='hulu'\n",
    "amazon['plataform']='amazon'"
   ]
  },
  {
   "cell_type": "code",
   "execution_count": 51,
   "metadata": {},
   "outputs": [],
   "source": [
    "#Concateno las listas en un solo df\n",
    "data=pd.concat((netflix,disney,hulu,amazon),ignore_index=True)"
   ]
  },
  {
   "cell_type": "code",
   "execution_count": 52,
   "metadata": {},
   "outputs": [],
   "source": [
    "#Elimino columnas con datos sin uso\n",
    "data=data.drop(columns='description')\n",
    "data=data.drop(columns='country')\n",
    "data=data.drop(columns='date_added')\n",
    "data=data.drop(columns='rating')\n",
    "data=data.drop(columns='director')"
   ]
  },
  {
   "cell_type": "code",
   "execution_count": 53,
   "metadata": {},
   "outputs": [
    {
     "data": {
      "text/html": [
       "<div>\n",
       "<style scoped>\n",
       "    .dataframe tbody tr th:only-of-type {\n",
       "        vertical-align: middle;\n",
       "    }\n",
       "\n",
       "    .dataframe tbody tr th {\n",
       "        vertical-align: top;\n",
       "    }\n",
       "\n",
       "    .dataframe thead th {\n",
       "        text-align: right;\n",
       "    }\n",
       "</style>\n",
       "<table border=\"1\" class=\"dataframe\">\n",
       "  <thead>\n",
       "    <tr style=\"text-align: right;\">\n",
       "      <th></th>\n",
       "      <th>type</th>\n",
       "      <th>title</th>\n",
       "      <th>cast</th>\n",
       "      <th>release_year</th>\n",
       "      <th>duration</th>\n",
       "      <th>listed_in</th>\n",
       "      <th>plataform</th>\n",
       "    </tr>\n",
       "  </thead>\n",
       "  <tbody>\n",
       "    <tr>\n",
       "      <th>0</th>\n",
       "      <td>Movie</td>\n",
       "      <td>Dick Johnson Is Dead</td>\n",
       "      <td>None</td>\n",
       "      <td>2020</td>\n",
       "      <td>90 min</td>\n",
       "      <td>Documentaries</td>\n",
       "      <td>netflix</td>\n",
       "    </tr>\n",
       "    <tr>\n",
       "      <th>1</th>\n",
       "      <td>TV Show</td>\n",
       "      <td>Blood &amp; Water</td>\n",
       "      <td>Ama Qamata, Khosi Ngema, Gail Mabalane, Thaban...</td>\n",
       "      <td>2021</td>\n",
       "      <td>2 Seasons</td>\n",
       "      <td>International TV Shows, TV Dramas, TV Mysteries</td>\n",
       "      <td>netflix</td>\n",
       "    </tr>\n",
       "    <tr>\n",
       "      <th>2</th>\n",
       "      <td>TV Show</td>\n",
       "      <td>Ganglands</td>\n",
       "      <td>Sami Bouajila, Tracy Gotoas, Samuel Jouy, Nabi...</td>\n",
       "      <td>2021</td>\n",
       "      <td>1 Season</td>\n",
       "      <td>Crime TV Shows, International TV Shows, TV Act...</td>\n",
       "      <td>netflix</td>\n",
       "    </tr>\n",
       "  </tbody>\n",
       "</table>\n",
       "</div>"
      ],
      "text/plain": [
       "      type                 title  \\\n",
       "0    Movie  Dick Johnson Is Dead   \n",
       "1  TV Show         Blood & Water   \n",
       "2  TV Show             Ganglands   \n",
       "\n",
       "                                                cast  release_year   duration  \\\n",
       "0                                               None          2020     90 min   \n",
       "1  Ama Qamata, Khosi Ngema, Gail Mabalane, Thaban...          2021  2 Seasons   \n",
       "2  Sami Bouajila, Tracy Gotoas, Samuel Jouy, Nabi...          2021   1 Season   \n",
       "\n",
       "                                           listed_in plataform  \n",
       "0                                      Documentaries   netflix  \n",
       "1    International TV Shows, TV Dramas, TV Mysteries   netflix  \n",
       "2  Crime TV Shows, International TV Shows, TV Act...   netflix  "
      ]
     },
     "execution_count": 53,
     "metadata": {},
     "output_type": "execute_result"
    }
   ],
   "source": [
    "data.head(3)"
   ]
  },
  {
   "cell_type": "markdown",
   "metadata": {},
   "source": [
    "Columna duration la transformo a numérico"
   ]
  },
  {
   "cell_type": "code",
   "execution_count": 54,
   "metadata": {},
   "outputs": [
    {
     "name": "stderr",
     "output_type": "stream",
     "text": [
      "C:\\Users\\Usuario\\AppData\\Local\\Temp\\ipykernel_6180\\1894652545.py:6: SettingWithCopyWarning: \n",
      "A value is trying to be set on a copy of a slice from a DataFrame\n",
      "\n",
      "See the caveats in the documentation: https://pandas.pydata.org/pandas-docs/stable/user_guide/indexing.html#returning-a-view-versus-a-copy\n",
      "  data.duration[fila]= valor[0]\n",
      "C:\\Users\\Usuario\\AppData\\Local\\Temp\\ipykernel_6180\\1894652545.py:9: SettingWithCopyWarning: \n",
      "A value is trying to be set on a copy of a slice from a DataFrame\n",
      "\n",
      "See the caveats in the documentation: https://pandas.pydata.org/pandas-docs/stable/user_guide/indexing.html#returning-a-view-versus-a-copy\n",
      "  data.duration[fila]= 0\n"
     ]
    }
   ],
   "source": [
    "#Transformo los datos de duration para que sea de tipo entero, de esa forma poder sumar los minutos para Movies y las Season para TV Shows\n",
    "for fila,duracion in enumerate(data['duration']):\n",
    "    valor=(list(re.findall(r'-?\\d+',str(duracion))))\n",
    "    #extraigo en una lista el valor numérico de cada dígito\n",
    "    if valor :\n",
    "        data.duration[fila]= valor[0]\n",
    "        #de existir ese valor lo reemplazo en la duración\n",
    "    else:\n",
    "        data.duration[fila]= 0\n",
    "        # en caso de que no lo reemplazo por none\n",
    "data[\"duration\"] = pd.to_numeric(data[\"duration\"])"
   ]
  },
  {
   "cell_type": "code",
   "execution_count": 55,
   "metadata": {},
   "outputs": [
    {
     "data": {
      "text/plain": [
       "dtype('int64')"
      ]
     },
     "execution_count": 55,
     "metadata": {},
     "output_type": "execute_result"
    }
   ],
   "source": [
    "data['duration'].dtypes"
   ]
  },
  {
   "cell_type": "markdown",
   "metadata": {},
   "source": [
    "Dropeo duplicados y nulos"
   ]
  },
  {
   "cell_type": "code",
   "execution_count": 56,
   "metadata": {},
   "outputs": [
    {
     "data": {
      "text/plain": [
       "(22998, 7)"
      ]
     },
     "execution_count": 56,
     "metadata": {},
     "output_type": "execute_result"
    }
   ],
   "source": [
    "data.shape"
   ]
  },
  {
   "cell_type": "code",
   "execution_count": 57,
   "metadata": {},
   "outputs": [
    {
     "data": {
      "text/plain": [
       "(22998, 7)"
      ]
     },
     "execution_count": 57,
     "metadata": {},
     "output_type": "execute_result"
    }
   ],
   "source": [
    "#Elimino los duplicados en caso de haber\n",
    "data.drop_duplicates()\n",
    "data.shape"
   ]
  },
  {
   "cell_type": "code",
   "execution_count": 58,
   "metadata": {},
   "outputs": [
    {
     "data": {
      "text/plain": [
       "(22998, 7)"
      ]
     },
     "execution_count": 58,
     "metadata": {},
     "output_type": "execute_result"
    }
   ],
   "source": [
    "#Elimino los nulos, en caso de tener más de 5 valores faltantes en caso de haber\n",
    "data.dropna(thresh=5)\n",
    "data.shape"
   ]
  },
  {
   "cell_type": "markdown",
   "metadata": {},
   "source": [
    "Normalizo valores entre plataformas"
   ]
  },
  {
   "cell_type": "code",
   "execution_count": 61,
   "metadata": {},
   "outputs": [
    {
     "name": "stderr",
     "output_type": "stream",
     "text": [
      "C:\\Users\\Usuario\\AppData\\Local\\Temp\\ipykernel_6180\\530900885.py:10: SettingWithCopyWarning: \n",
      "A value is trying to be set on a copy of a slice from a DataFrame\n",
      "\n",
      "See the caveats in the documentation: https://pandas.pydata.org/pandas-docs/stable/user_guide/indexing.html#returning-a-view-versus-a-copy\n",
      "  data.cast[fila2]=data.cast[fila1]\n",
      "C:\\Users\\Usuario\\AppData\\Local\\Temp\\ipykernel_6180\\530900885.py:14: SettingWithCopyWarning: \n",
      "A value is trying to be set on a copy of a slice from a DataFrame\n",
      "\n",
      "See the caveats in the documentation: https://pandas.pydata.org/pandas-docs/stable/user_guide/indexing.html#returning-a-view-versus-a-copy\n",
      "  data.duration[fila2]=data.duration[fila1]\n",
      "C:\\Users\\Usuario\\AppData\\Local\\Temp\\ipykernel_6180\\530900885.py:16: SettingWithCopyWarning: \n",
      "A value is trying to be set on a copy of a slice from a DataFrame\n",
      "\n",
      "See the caveats in the documentation: https://pandas.pydata.org/pandas-docs/stable/user_guide/indexing.html#returning-a-view-versus-a-copy\n",
      "  data.duration[fila1]=data.duration[fila2]\n"
     ]
    }
   ],
   "source": [
    "#En caso de repetirse el título entre plataformas, va a rellenar y normalizar los datos\n",
    "cont=0\n",
    "for fila1,titulo1 in enumerate(data['title']):\n",
    "    cont=0\n",
    "    for fila2,titulo2 in enumerate(data['title']):\n",
    "        if cont==0 and fila1<fila2 and titulo1==titulo2 and data.type[fila1]==data.type[fila2] :\n",
    "#Si es distinta fila, tienen el mismo tipo y comparten el título entonces:\n",
    "#Le pido que para la columna cast,duration, release_year y listed_in me reemplace los valores en caso de existir\n",
    "            if data.cast[fila1]:\n",
    "                data.cast[fila2]=data.cast[fila1]\n",
    "            elif data.cast[fila2]:\n",
    "                data.cast[fila1]=data.cast[fila2]\n",
    "            if data.duration[fila1]:\n",
    "                data.duration[fila2]=data.duration[fila1]\n",
    "            elif data.duration[fila2]:\n",
    "                data.duration[fila1]=data.duration[fila2]\n",
    "            # Necesito comentarlo porque no me da las respuestas esperadas en el pdf\n",
    "            #if data.release_year[fila1]:\n",
    "            #    data.release_year[fila2]=data.release_year[fila1]\n",
    "            #elif data.release_year[fila2]:\n",
    "            #    data.release_year[fila1]=data.release_year[fila2]\n",
    "            # Necesito comentarlo porque no me da las respuestas esperadas del pdf\n",
    "            # Necesito comentarlo porque no me da las respuestas esperadas del pdf\n",
    "            cont+=1  "
   ]
  },
  {
   "cell_type": "code",
   "execution_count": 62,
   "metadata": {},
   "outputs": [
    {
     "data": {
      "text/html": [
       "<div>\n",
       "<style scoped>\n",
       "    .dataframe tbody tr th:only-of-type {\n",
       "        vertical-align: middle;\n",
       "    }\n",
       "\n",
       "    .dataframe tbody tr th {\n",
       "        vertical-align: top;\n",
       "    }\n",
       "\n",
       "    .dataframe thead th {\n",
       "        text-align: right;\n",
       "    }\n",
       "</style>\n",
       "<table border=\"1\" class=\"dataframe\">\n",
       "  <thead>\n",
       "    <tr style=\"text-align: right;\">\n",
       "      <th></th>\n",
       "      <th>type</th>\n",
       "      <th>title</th>\n",
       "      <th>cast</th>\n",
       "      <th>release_year</th>\n",
       "      <th>duration</th>\n",
       "      <th>listed_in</th>\n",
       "      <th>plataform</th>\n",
       "    </tr>\n",
       "  </thead>\n",
       "  <tbody>\n",
       "    <tr>\n",
       "      <th>0</th>\n",
       "      <td>Movie</td>\n",
       "      <td>Dick Johnson Is Dead</td>\n",
       "      <td>None</td>\n",
       "      <td>2020</td>\n",
       "      <td>90</td>\n",
       "      <td>Documentaries</td>\n",
       "      <td>netflix</td>\n",
       "    </tr>\n",
       "    <tr>\n",
       "      <th>1</th>\n",
       "      <td>TV Show</td>\n",
       "      <td>Blood &amp; Water</td>\n",
       "      <td>Ama Qamata, Khosi Ngema, Gail Mabalane, Thaban...</td>\n",
       "      <td>2021</td>\n",
       "      <td>2</td>\n",
       "      <td>International TV Shows, TV Dramas, TV Mysteries</td>\n",
       "      <td>netflix</td>\n",
       "    </tr>\n",
       "    <tr>\n",
       "      <th>2</th>\n",
       "      <td>TV Show</td>\n",
       "      <td>Ganglands</td>\n",
       "      <td>Sami Bouajila, Tracy Gotoas, Samuel Jouy, Nabi...</td>\n",
       "      <td>2021</td>\n",
       "      <td>1</td>\n",
       "      <td>Crime TV Shows, International TV Shows, TV Act...</td>\n",
       "      <td>netflix</td>\n",
       "    </tr>\n",
       "    <tr>\n",
       "      <th>3</th>\n",
       "      <td>TV Show</td>\n",
       "      <td>Jailbirds New Orleans</td>\n",
       "      <td>None</td>\n",
       "      <td>2021</td>\n",
       "      <td>1</td>\n",
       "      <td>Docuseries, Reality TV</td>\n",
       "      <td>netflix</td>\n",
       "    </tr>\n",
       "    <tr>\n",
       "      <th>4</th>\n",
       "      <td>TV Show</td>\n",
       "      <td>Kota Factory</td>\n",
       "      <td>Mayur More, Jitendra Kumar, Ranjan Raj, Alam K...</td>\n",
       "      <td>2021</td>\n",
       "      <td>2</td>\n",
       "      <td>International TV Shows, Romantic TV Shows, TV ...</td>\n",
       "      <td>netflix</td>\n",
       "    </tr>\n",
       "  </tbody>\n",
       "</table>\n",
       "</div>"
      ],
      "text/plain": [
       "      type                  title  \\\n",
       "0    Movie   Dick Johnson Is Dead   \n",
       "1  TV Show          Blood & Water   \n",
       "2  TV Show              Ganglands   \n",
       "3  TV Show  Jailbirds New Orleans   \n",
       "4  TV Show           Kota Factory   \n",
       "\n",
       "                                                cast  release_year  duration  \\\n",
       "0                                               None          2020        90   \n",
       "1  Ama Qamata, Khosi Ngema, Gail Mabalane, Thaban...          2021         2   \n",
       "2  Sami Bouajila, Tracy Gotoas, Samuel Jouy, Nabi...          2021         1   \n",
       "3                                               None          2021         1   \n",
       "4  Mayur More, Jitendra Kumar, Ranjan Raj, Alam K...          2021         2   \n",
       "\n",
       "                                           listed_in plataform  \n",
       "0                                      Documentaries   netflix  \n",
       "1    International TV Shows, TV Dramas, TV Mysteries   netflix  \n",
       "2  Crime TV Shows, International TV Shows, TV Act...   netflix  \n",
       "3                             Docuseries, Reality TV   netflix  \n",
       "4  International TV Shows, Romantic TV Shows, TV ...   netflix  "
      ]
     },
     "execution_count": 62,
     "metadata": {},
     "output_type": "execute_result"
    }
   ],
   "source": [
    "data.head()"
   ]
  },
  {
   "cell_type": "markdown",
   "metadata": {},
   "source": [
    "Exporto DF"
   ]
  },
  {
   "cell_type": "code",
   "execution_count": 63,
   "metadata": {},
   "outputs": [],
   "source": [
    "data.to_csv('Datasets\\datos_titulos.csv',index=False)\n",
    "#Terminamos con el trabajo de limpieza de datos"
   ]
  }
 ],
 "metadata": {
  "kernelspec": {
   "display_name": "Python 3.10.5 64-bit",
   "language": "python",
   "name": "python3"
  },
  "language_info": {
   "codemirror_mode": {
    "name": "ipython",
    "version": 3
   },
   "file_extension": ".py",
   "mimetype": "text/x-python",
   "name": "python",
   "nbconvert_exporter": "python",
   "pygments_lexer": "ipython3",
   "version": "3.10.5"
  },
  "orig_nbformat": 4,
  "vscode": {
   "interpreter": {
    "hash": "c63d8c7d738c2960218a10995aedf0a7f67a49a231e71037adf0440953cdb45b"
   }
  }
 },
 "nbformat": 4,
 "nbformat_minor": 2
}
